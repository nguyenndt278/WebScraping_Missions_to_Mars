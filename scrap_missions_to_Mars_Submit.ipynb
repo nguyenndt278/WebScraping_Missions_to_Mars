{
 "cells": [
  {
   "cell_type": "code",
   "execution_count": 63,
   "metadata": {},
   "outputs": [],
   "source": [
    "from bs4 import BeautifulSoup as bs\n",
    "import requests\n",
    "import pymongo\n",
    "from splinter import Browser\n",
    "import pandas as pd"
   ]
  },
  {
   "cell_type": "code",
   "execution_count": 64,
   "metadata": {},
   "outputs": [],
   "source": [
    "executable_path = {'executable_path': 'C:\\workspace\\Resources\\chromedriver.exe'}\n",
    "browser = Browser('chrome', **executable_path, headless=False)"
   ]
  },
  {
   "cell_type": "code",
   "execution_count": 65,
   "metadata": {},
   "outputs": [],
   "source": [
    "conn = 'mongodb://localhost:27017'\n",
    "client = pymongo.MongoClient(conn)"
   ]
  },
  {
   "cell_type": "code",
   "execution_count": 66,
   "metadata": {},
   "outputs": [],
   "source": [
    "db = client.missionMars_db\n",
    "collection = db.articles"
   ]
  },
  {
   "cell_type": "code",
   "execution_count": 72,
   "metadata": {},
   "outputs": [
    {
     "name": "stdout",
     "output_type": "stream",
     "text": [
      "NASA's Curiosity Rover Finds an Ancient Oasis on Mars\n",
      "New evidence suggests salty, shallow ponds once dotted a Martian crater — a sign of the planet's drying climate.\n",
      "NASA's Mars 2020 Rover Tests Descent-Stage Separation\n",
      "A crane lifts the rocket-powered descent stage away from NASA's Mars 2020 rover after technicians tested the pyrotechnic charges that separate the two spacecraft.\n",
      "NASA's Push to Save the Mars InSight Lander's Heat Probe\n",
      "The scoop on the end of the spacecraft's robotic arm will be used to 'pin' the mole against the wall of its hole.\n",
      "NASA's InSight 'Hears' Peculiar Sounds on Mars\n",
      "Listen to the marsquakes and other, less-expected sounds that the Mars lander has been detecting.\n",
      "NASA Mars Mission Connects With Bosnian and Herzegovinian Town\n",
      "A letter from NASA was presented to the mayor of Jezero, Bosnia-Herzegovina, honoring the connection between the town and Jezero Crater, the Mars 2020 rover landing site.\n",
      "Deadline Closing for Names to Fly on NASA's Next Mars Rover\n",
      "You have until Sept. 30 to send your names to Mars aboard the Mars 2020 rover. \n",
      "NASA Wins Two Emmy Awards for Interactive Mission Coverage\n",
      "NASA-JPL's coverage of the Mars InSight landing earns one of the two wins, making this the NASA center's second Emmy.\n",
      "NASA's Mars 2020 Comes Full Circle\n",
      "Aiming to pinpoint the Martian vehicle's center of gravity, engineers took NASA's 2,300-pound Mars 2020 rover for a spin in the clean room at JPL. \n",
      "NASA Invites Students to Name Mars 2020 Rover\n",
      "Through Nov. 1, K-12 students in the U.S. are encouraged to enter an essay contest to name NASA's next Mars rover.\n",
      "NASA's Mars Helicopter Attached to Mars 2020 Rover \n",
      "The helicopter will be first aircraft to perform flight tests on another planet.\n",
      "What's Mars Solar Conjunction, and Why Does It Matter?\n",
      "NASA spacecraft at Mars are going to be on their own for a few weeks when the Sun comes between Mars and Earth, interrupting communications.\n",
      "Scientists Explore Outback as Testbed for Mars \n",
      "Australia provides a great place for NASA's Mars 2020 and the ESA-Roscosmos ExoMars scientists to hone techniques in preparation for searching for signs ancient life on Mars.\n",
      "NASA-JPL Names 'Rolling Stones Rock' on Mars\n",
      "NASA's Mars InSight mission honored one of the biggest bands of all time at Pasadena concert.\n",
      "Robotic Toolkit Added to NASA's Mars 2020 Rover\n",
      "The bit carousel, which lies at the heart of the rover's Sample Caching System, is now aboard NASA's newest rover. \n",
      "Space Samples Link NASA's Apollo 11 and Mars 2020\n",
      "While separated by half a century, NASA's Apollo 11 and Mars 2020 missions share the same historic goal: returning samples to Earth.\n",
      "Small Satellite Mission of the Year\n",
      "The first interplanetary CubeSats were recognized by the engineering community with the 2019 Small Satellite Mission of the Year award.\n",
      "NASA 'Optometrists' Verify Mars 2020 Rover's 20/20 Vision\n",
      "Mars 2020 rover underwent an eye exam after several cameras were installed on the rover.\n",
      "New Finds for Mars Rover, Seven Years After Landing\n",
      "NASA's Curiosity rover is discovering odd rocks halfway into a region called the \"clay-bearing unit.\"\n",
      "MEDLI2 Installation on Mars 2020 Aeroshell Begins\n",
      "Hardware installed onto NASA's Mars 2020 entry vehicle this week will help to increase the safety of future Mars landings.\n",
      "NASA's Mars 2020 Rover Does Biceps Curls \n",
      "In this time-lapse video, the robotic arm on NASA's Mars 2020 rover maneuvers its 88-pound (40-kilogram) sensor-laden turret as it moves from a deployed to stowed configuration.\n",
      "Fueling of NASA's Mars 2020 Rover Power System Begins\n",
      "NASA gives the go-ahead to fuel the Mars 2020 rover's Multi-Mission Radioisotope Thermoelectric Generator, which will power rover and help keep it warm while exploring Mars.\n",
      "What Does a Marsquake Look Like?\n",
      "InSight scientists used a special \"shake room\" to demonstrate the differences between quakes on Earth, the Moon and Mars.\n",
      "Mars 2020 Rover: T-Minus One Year and Counting \n",
      "The launch period for NASA's next rover, Mars 2020, opens exactly one year from today, July 17, 2020, and extends through Aug. 5, 2020.\n",
      "NASA Racks Up Two Emmy Nominations for Mission Coverage\n",
      "JPL's coverage of the Mars InSight mission is among the efforts that will be up for an award in mid-September.\n",
      "Want to Colonize Mars? Aerogel Could Help\n",
      "Researchers are studying whether a wonder material used in Mars rovers could help warm parts of the Red Planet rich in water ice.\n",
      "A Rover Pit Stop at JPL\n",
      "Working like a finely honed machine, a team of engineers in this time-lapse video clip install test wheels on another finely honed machine: NASA's Mars 2020 rover.\n",
      "Mars 2020 Rover Gets a Super Instrument\n",
      "With its rock-zapping laser, the SuperCam will enable the science team to identify the chemical and mineral makeup of its targets on the Red Planet.\n",
      "A Neil Armstrong for Mars: Landing the Mars 2020 Rover\n",
      "NASA's newest rover will have an autopilot called Terrain-Relative Navigation.\n",
      "NASA's InSight Uncovers the 'Mole' \n",
      "The lander's robotic arm has successfully removed a piece of hardware blocking the view of its digging device in order to help with recovery efforts.\n",
      "Mars 2020 Rover's 7-Foot-Long Robotic Arm Installed\n",
      "The main robotic arm has been installed on NASA's newest rover. When complete, the arm will enable the rover to hold and use science tools like a human geologist would.\n",
      "NASA Selects Partners for Mars 2020 'Name the Rover' Contest, Seeks Judges\n",
      "The contest for U.S. schoolchildren will open in fall 2019, but judges can sign up now.\n",
      "Curiosity's Mars Methane Mystery Continues\n",
      "The Curiosity rover’s follow-on sampling shows last week’s methane levels have sharply decreased.\n",
      "Mars 2020 Rover Gets Its Wheels\n",
      "With the mobility suspension in place, the rover not only looks more like a rover but has many of its 'big-ticket items' installed.\n",
      "The Mast Is Raised for NASA's Mars 2020 Rover\n",
      "Engineers at JPL take a group selfie after attaching the remote sensing mast to the Mars 2020 rover.\n",
      "NASA's Mars 2020 Will Blaze a Trail — for Humans\n",
      "The next robotic Mars mission will carry technology that will help enable astronauts to eventually explore the Red Planet.\n",
      "Johnson-Built Device to Help Mars 2020 Rover Search for Signs of Life\n",
      "NASA’s Johnson Space Center (JSC) recently built a new calibration device for the rover to check SHERLOC’s function and properly tune it during the upcoming mission.\n",
      "Watch NASA Build Its Next Mars Rover\n",
      "A newly installed webcam offers the public a live, bird's-eye view of NASA's Mars 2020 rover as it takes shape at NASA's Jet Propulsion Laboratory. \n",
      "NASA's Mars Helicopter Testing Enters Final Phase\n",
      "NASA's Mars Helicopter flight demonstration project has passed a number of key tests with flying colors.\n",
      "InSight's Team Tries New Strategy to Help the 'Mole'\n",
      "The spacecraft's robotic arm will lift the heat probe's support structure, providing a better look at the instrument that has been trying to burrow into the Martian surface.\n",
      "Common Questions about InSight's 'Mole'\n",
      "There's a new plan to get InSight's \"mole\" moving again. The following Q&As with two members of the team answer some of the most common questions about the burrowing device, part of a science instrument called the Heat Flow and Physical Properties Package (HP3).\n"
     ]
    },
    {
     "ename": "AttributeError",
     "evalue": "'NoneType' object has no attribute 'text'",
     "output_type": "error",
     "traceback": [
      "\u001b[1;31m---------------------------------------------------------------------------\u001b[0m",
      "\u001b[1;31mAttributeError\u001b[0m                            Traceback (most recent call last)",
      "\u001b[1;32m<ipython-input-72-95eaaa3b84ed>\u001b[0m in \u001b[0;36m<module>\u001b[1;34m\u001b[0m\n\u001b[0;32m     12\u001b[0m     \u001b[1;32mfor\u001b[0m \u001b[0mresult\u001b[0m \u001b[1;32min\u001b[0m \u001b[0mresults\u001b[0m\u001b[1;33m:\u001b[0m\u001b[1;33m\u001b[0m\u001b[1;33m\u001b[0m\u001b[0m\n\u001b[0;32m     13\u001b[0m         \u001b[0mtitle\u001b[0m \u001b[1;33m=\u001b[0m \u001b[0mresult\u001b[0m\u001b[1;33m.\u001b[0m\u001b[0mfind\u001b[0m\u001b[1;33m(\u001b[0m\u001b[0mclass_\u001b[0m\u001b[1;33m=\u001b[0m\u001b[1;34m'content_title'\u001b[0m\u001b[1;33m)\u001b[0m\u001b[1;33m.\u001b[0m\u001b[0mtext\u001b[0m\u001b[1;33m\u001b[0m\u001b[1;33m\u001b[0m\u001b[0m\n\u001b[1;32m---> 14\u001b[1;33m         \u001b[0mbody\u001b[0m\u001b[1;33m=\u001b[0m\u001b[0mresult\u001b[0m\u001b[1;33m.\u001b[0m\u001b[0mfind\u001b[0m\u001b[1;33m(\u001b[0m\u001b[0mclass_\u001b[0m\u001b[1;33m=\u001b[0m\u001b[1;34m'article_teaser_body'\u001b[0m\u001b[1;33m)\u001b[0m\u001b[1;33m.\u001b[0m\u001b[0mtext\u001b[0m\u001b[1;33m\u001b[0m\u001b[1;33m\u001b[0m\u001b[0m\n\u001b[0m\u001b[0;32m     15\u001b[0m         \u001b[0mtitles\u001b[0m\u001b[1;33m.\u001b[0m\u001b[0mappend\u001b[0m\u001b[1;33m(\u001b[0m\u001b[0mtitle\u001b[0m\u001b[1;33m)\u001b[0m\u001b[1;33m\u001b[0m\u001b[1;33m\u001b[0m\u001b[0m\n\u001b[0;32m     16\u001b[0m         \u001b[0mbodies\u001b[0m\u001b[1;33m.\u001b[0m\u001b[0mappend\u001b[0m\u001b[1;33m(\u001b[0m\u001b[0mbody\u001b[0m\u001b[1;33m)\u001b[0m\u001b[1;33m\u001b[0m\u001b[1;33m\u001b[0m\u001b[0m\n",
      "\u001b[1;31mAttributeError\u001b[0m: 'NoneType' object has no attribute 'text'"
     ]
    }
   ],
   "source": [
    "### NASA Mars News\n",
    "url = 'https://mars.nasa.gov/news/'\n",
    "response = requests.get(url)\n",
    "soup = bs(response.text, 'lxml')\n",
    "browser.visit(url)\n",
    "titles=[]\n",
    "bodies=[]\n",
    "for x in range(1,20):\n",
    "    html = browser.html\n",
    "    soup = bs(html, 'html.parser')\n",
    "    results = soup.find_all(class_='slide')\n",
    "    for result in results:\n",
    "        title = result.find(class_='content_title').text\n",
    "        body=result.find(class_='article_teaser_body').text\n",
    "        titles.append(title)\n",
    "        bodies.append(body)\n",
    "        print(title)\n",
    "        print(body)\n",
    "    try:\n",
    "        browser.click_link_by_partial_text('more')    \n",
    "    except:\n",
    "        print(\"Scraping Complete\")\n",
    "        \n",
    "print(titles[0])\n",
    "print(bodies[0])"
   ]
  },
  {
   "cell_type": "code",
   "execution_count": 70,
   "metadata": {},
   "outputs": [
    {
     "ename": "NameError",
     "evalue": "name 'news_title' is not defined",
     "output_type": "error",
     "traceback": [
      "\u001b[1;31m---------------------------------------------------------------------------\u001b[0m",
      "\u001b[1;31mNameError\u001b[0m                                 Traceback (most recent call last)",
      "\u001b[1;32m<ipython-input-70-8b40436ce977>\u001b[0m in \u001b[0;36m<module>\u001b[1;34m\u001b[0m\n\u001b[1;32m----> 1\u001b[1;33m \u001b[0mprint\u001b[0m\u001b[1;33m(\u001b[0m\u001b[0mnews_title\u001b[0m\u001b[1;33m)\u001b[0m\u001b[1;33m\u001b[0m\u001b[1;33m\u001b[0m\u001b[0m\n\u001b[0m\u001b[0;32m      2\u001b[0m \u001b[0mprint\u001b[0m\u001b[1;33m(\u001b[0m\u001b[0mnews_p\u001b[0m\u001b[1;33m)\u001b[0m\u001b[1;33m\u001b[0m\u001b[1;33m\u001b[0m\u001b[0m\n",
      "\u001b[1;31mNameError\u001b[0m: name 'news_title' is not defined"
     ]
    }
   ],
   "source": [
    "print(news_title)\n",
    "print(news_p)"
   ]
  },
  {
   "cell_type": "code",
   "execution_count": 73,
   "metadata": {},
   "outputs": [
    {
     "name": "stdout",
     "output_type": "stream",
     "text": [
      "page: 1 -------------\n",
      "<article alt=\"Sizzling Remains of a Dead Star\" class=\"carousel_item\" style=\"background-image: url('/spaceimages/images/wallpaper/PIA16606-1920x1200.jpg');\">\n",
      "<div class=\"default floating_text_area ms-layer\">\n",
      "<h2 class=\"category_title\">\n",
      "</h2>\n",
      "<h2 class=\"brand_title\">\n",
      "\t\t\t\t  FEATURED IMAGE\n",
      "\t\t\t\t</h2>\n",
      "<h1 class=\"media_feature_title\">\n",
      "\t\t\t\t  Sizzling Remains of a Dead Star\t\t\t\t</h1>\n",
      "<div class=\"description\">\n",
      "</div>\n",
      "<footer>\n",
      "<a class=\"button fancybox\" data-description=\"This new view of the historical supernova remnant Cassiopeia A, located 11,000 light-years away, was taken by NASA's Nuclear Spectroscopic Telescope Array, or NuSTAR. While the star is long dead, its remains are still bursting with action.\" data-fancybox-group=\"images\" data-fancybox-href=\"/spaceimages/images/mediumsize/PIA16606_ip.jpg\" data-link=\"/spaceimages/details.php?id=PIA16606\" data-title=\"Sizzling Remains of a Dead Star\" id=\"full_image\">\n",
      "\t\t\t\t\tFULL IMAGE\n",
      "\t\t\t\t  </a>\n",
      "</footer>\n",
      "</div>\n",
      "<div class=\"gradient_container_top\"></div>\n",
      "<div class=\"gradient_container_bottom\"></div>\n",
      "</article>\n"
     ]
    }
   ],
   "source": [
    "### JPL Mars Space Images - Featured Image\n",
    "executable_path = {'executable_path': 'C:\\workspace\\Resources\\chromedriver.exe'}\n",
    "browser = Browser('chrome', **executable_path, headless=False)\n",
    "url_image = 'https://www.jpl.nasa.gov/spaceimages/?search=&category=Mars'\n",
    "browser.visit(url_image)\n",
    "image_list=[]\n",
    "for x in range(1, 2):\n",
    "    html = browser.html\n",
    "    soup = bs(html, 'html.parser')\n",
    "    mars_image = soup.find_all('article',class_='carousel_item')\n",
    "    for image in mars_image:\n",
    "        print('page:', x, '-------------')\n",
    "        print(image)\n",
    "        image_list.append(image)\n",
    "    try:\n",
    "        browser.click_link_by_partial_text('more')    \n",
    "    except:\n",
    "        print(\"Scraping Complete\")\n",
    "images= image_list[0]['style'].split(\"'\")[1]\n",
    "beginn='https://www.jpl.nasa.gov'\n",
    "featured_image_url = beginn+images\n"
   ]
  },
  {
   "cell_type": "code",
   "execution_count": 74,
   "metadata": {},
   "outputs": [
    {
     "name": "stdout",
     "output_type": "stream",
     "text": [
      "https://www.jpl.nasa.gov/spaceimages/images/wallpaper/PIA16606-1920x1200.jpg\n"
     ]
    }
   ],
   "source": [
    "print(featured_image_url)"
   ]
  },
  {
   "cell_type": "code",
   "execution_count": 75,
   "metadata": {},
   "outputs": [
    {
     "name": "stdout",
     "output_type": "stream",
     "text": [
      "page: 1 -------------\n",
      "<div class=\"js-tweet-text-container\">\n",
      "<p class=\"TweetTextSize TweetTextSize--normal js-tweet-text tweet-text\" data-aria-label-part=\"0\" lang=\"en\">InSight sol 313 (2019-10-14) low -101.4ºC (-150.6ºF) high -27.2ºC (-16.9ºF)\n",
      "winds from the SSE at 5.5 m/s (12.4 mph) gusting to 22.5 m/s (50.3 mph)\n",
      "pressure at 7.20 hPa<a class=\"twitter-timeline-link u-hidden\" data-pre-embedded=\"true\" dir=\"ltr\" href=\"https://t.co/2moNAouxXa\">pic.twitter.com/2moNAouxXa</a></p>\n",
      "</div>\n",
      "page: 1 -------------\n",
      "<div class=\"js-tweet-text-container\">\n",
      "<p class=\"TweetTextSize TweetTextSize--normal js-tweet-text tweet-text\" data-aria-label-part=\"0\" lang=\"en\">InSight sol 312 (2019-10-12) low -100.4ºC (-148.7ºF) high -26.0ºC (-14.8ºF)\n",
      "winds from the SSW at 4.8 m/s (10.6 mph) gusting to 19.5 m/s (43.6 mph)\n",
      "pressure at 7.20 hPa<a class=\"twitter-timeline-link u-hidden\" data-pre-embedded=\"true\" dir=\"ltr\" href=\"https://t.co/t0L5YpYPah\">pic.twitter.com/t0L5YpYPah</a></p>\n",
      "</div>\n",
      "page: 1 -------------\n",
      "<div class=\"js-tweet-text-container\">\n",
      "<p class=\"TweetTextSize TweetTextSize--normal js-tweet-text tweet-text\" data-aria-label-part=\"0\" lang=\"en\">InSight sol 311 (2019-10-11) low -100.8ºC (-149.4ºF) high -26.4ºC (-15.4ºF)\n",
      "winds from the SSW at 4.8 m/s (10.6 mph) gusting to 19.1 m/s (42.6 mph)\n",
      "pressure at 7.20 hPa<a class=\"twitter-timeline-link u-hidden\" data-pre-embedded=\"true\" dir=\"ltr\" href=\"https://t.co/z5WeBicIrF\">pic.twitter.com/z5WeBicIrF</a></p>\n",
      "</div>\n",
      "page: 1 -------------\n",
      "<div class=\"js-tweet-text-container\">\n",
      "<p class=\"TweetTextSize TweetTextSize--normal js-tweet-text tweet-text\" data-aria-label-part=\"0\" lang=\"en\">InSight sol 310 (2019-10-10) low -102.2ºC (-152.0ºF) high -26.6ºC (-15.8ºF)\n",
      "winds from the SSE at 5.0 m/s (11.2 mph) gusting to 19.1 m/s (42.8 mph)\n",
      "pressure at 7.20 hPa<a class=\"twitter-timeline-link u-hidden\" data-pre-embedded=\"true\" dir=\"ltr\" href=\"https://t.co/0Pt27sbe1R\">pic.twitter.com/0Pt27sbe1R</a></p>\n",
      "</div>\n",
      "page: 1 -------------\n",
      "<div class=\"js-tweet-text-container\">\n",
      "<p class=\"TweetTextSize TweetTextSize--normal js-tweet-text tweet-text\" data-aria-label-part=\"0\" lang=\"en\">InSight sol 309 (2019-10-10) low -102.3ºC (-152.1ºF) high -26.2ºC (-15.1ºF)\n",
      "winds from the SSE at 6.1 m/s (13.6 mph) gusting to 18.9 m/s (42.4 mph)\n",
      "pressure at 7.20 hPa<a class=\"twitter-timeline-link u-hidden\" data-pre-embedded=\"true\" dir=\"ltr\" href=\"https://t.co/sSOjseIl81\">pic.twitter.com/sSOjseIl81</a></p>\n",
      "</div>\n",
      "page: 1 -------------\n",
      "<div class=\"js-tweet-text-container\">\n",
      "<p class=\"TweetTextSize TweetTextSize--normal js-tweet-text tweet-text\" data-aria-label-part=\"0\" lang=\"en\">InSight sol 308 (2019-10-08) low -102.1ºC (-151.7ºF) high -25.6ºC (-14.1ºF)\n",
      "winds from the SSE at 4.7 m/s (10.6 mph) gusting to 18.1 m/s (40.6 mph)\n",
      "pressure at 7.20 hPa<a class=\"twitter-timeline-link u-hidden\" data-pre-embedded=\"true\" dir=\"ltr\" href=\"https://t.co/R30ApI4ZZI\">pic.twitter.com/R30ApI4ZZI</a></p>\n",
      "</div>\n",
      "page: 1 -------------\n",
      "<div class=\"js-tweet-text-container\">\n",
      "<p class=\"TweetTextSize TweetTextSize--normal js-tweet-text tweet-text\" data-aria-label-part=\"0\" lang=\"en\">InSight sol 307 (2019-10-08) low -102.0ºC (-151.6ºF) high -26.8ºC (-16.3ºF)\n",
      "winds from the SSE at 4.9 m/s (11.1 mph) gusting to 18.4 m/s (41.1 mph)\n",
      "pressure at 7.20 hPa<a class=\"twitter-timeline-link u-hidden\" data-pre-embedded=\"true\" dir=\"ltr\" href=\"https://t.co/JJhiWjVPY6\">pic.twitter.com/JJhiWjVPY6</a></p>\n",
      "</div>\n",
      "page: 1 -------------\n",
      "<div class=\"js-tweet-text-container\">\n",
      "<p class=\"TweetTextSize TweetTextSize--normal js-tweet-text tweet-text\" data-aria-label-part=\"0\" lang=\"en\">InSight sol 306 (2019-10-07) low -102.7ºC (-152.8ºF) high -25.7ºC (-14.2ºF)\n",
      "winds from the SSE at 5.5 m/s (12.4 mph) gusting to 17.1 m/s (38.3 mph)\n",
      "pressure at 7.20 hPa<a class=\"twitter-timeline-link u-hidden\" data-pre-embedded=\"true\" dir=\"ltr\" href=\"https://t.co/i38dAuQJKJ\">pic.twitter.com/i38dAuQJKJ</a></p>\n",
      "</div>\n",
      "page: 1 -------------\n",
      "<div class=\"js-tweet-text-container\">\n",
      "<p class=\"TweetTextSize TweetTextSize--normal js-tweet-text tweet-text\" data-aria-label-part=\"0\" lang=\"en\">InSight sol 305 (2019-10-05) low -104.1ºC (-155.3ºF) high -27.3ºC (-17.1ºF)\n",
      "winds from the SSE at 4.9 m/s (10.9 mph) gusting to 22.2 m/s (49.8 mph)\n",
      "pressure at 7.20 hPa<a class=\"twitter-timeline-link u-hidden\" data-pre-embedded=\"true\" dir=\"ltr\" href=\"https://t.co/Z1xfMgV2cY\">pic.twitter.com/Z1xfMgV2cY</a></p>\n",
      "</div>\n",
      "page: 1 -------------\n",
      "<div class=\"js-tweet-text-container\">\n",
      "<p class=\"TweetTextSize TweetTextSize--normal js-tweet-text tweet-text\" data-aria-label-part=\"0\" lang=\"en\">InSight sol 304 (2019-10-04) low -104.3ºC (-155.8ºF) high -25.9ºC (-14.6ºF)\n",
      "winds from the SSE at 5.0 m/s (11.1 mph) gusting to 18.2 m/s (40.8 mph)\n",
      "pressure at 7.20 hPa<a class=\"twitter-timeline-link u-hidden\" data-pre-embedded=\"true\" dir=\"ltr\" href=\"https://t.co/0GHynq2lfF\">pic.twitter.com/0GHynq2lfF</a></p>\n",
      "</div>\n",
      "page: 1 -------------\n",
      "<div class=\"js-tweet-text-container\">\n",
      "<p class=\"TweetTextSize TweetTextSize--normal js-tweet-text tweet-text\" data-aria-label-part=\"0\" lang=\"en\">InSight sol 303 (2019-10-03) low -103.9ºC (-155.1ºF) high -26.5ºC (-15.7ºF)\n",
      "winds from the SSE at 4.9 m/s (11.0 mph) gusting to 19.1 m/s (42.8 mph)\n",
      "pressure at 7.20 hPa</p>\n",
      "</div>\n",
      "page: 1 -------------\n",
      "<div class=\"js-tweet-text-container\">\n",
      "<p class=\"TweetTextSize TweetTextSize--normal js-tweet-text tweet-text\" data-aria-label-part=\"4\" lang=\"en\">Our atmosphere is beautiful<a class=\"twitter-timeline-link u-hidden\" data-expanded-url=\"https://twitter.com/rtphokie/status/1180266075289718784\" dir=\"ltr\" href=\"https://t.co/v9lJIuip53\" rel=\"nofollow noopener\" target=\"_blank\" title=\"https://twitter.com/rtphokie/status/1180266075289718784\"><span class=\"tco-ellipsis\"></span><span class=\"invisible\">https://</span><span class=\"js-display-url\">twitter.com/rtphokie/statu</span><span class=\"invisible\">s/1180266075289718784</span><span class=\"tco-ellipsis\"><span class=\"invisible\"> </span>…</span></a></p>\n",
      "</div>\n",
      "page: 1 -------------\n",
      "<div class=\"js-tweet-text-container\">\n",
      "<p class=\"TweetTextSize TweetTextSize--normal js-tweet-text tweet-text\" data-aria-label-part=\"0\" lang=\"en\">InSight sol 302 (2019-10-02) low -102.0ºC (-151.7ºF) high -25.3ºC (-13.6ºF)\n",
      "winds from the SSE at 4.8 m/s (10.7 mph) gusting to 20.2 m/s (45.1 mph)\n",
      "pressure at 7.30 hPa<a class=\"twitter-timeline-link u-hidden\" data-pre-embedded=\"true\" dir=\"ltr\" href=\"https://t.co/NbIMjFZUpy\">pic.twitter.com/NbIMjFZUpy</a></p>\n",
      "</div>\n",
      "page: 1 -------------\n",
      "<div class=\"js-tweet-text-container\">\n",
      "<p class=\"TweetTextSize TweetTextSize--normal js-tweet-text tweet-text\" data-aria-label-part=\"0\" lang=\"en\">InSight sol 301 (2019-10-01) low -103.9ºC (-155.0ºF) high -26.4ºC (-15.5ºF)\n",
      "winds from the SE at 5.0 m/s (11.1 mph) gusting to 17.9 m/s (40.1 mph)\n",
      "pressure at 7.30 hPa<a class=\"twitter-timeline-link u-hidden\" data-pre-embedded=\"true\" dir=\"ltr\" href=\"https://t.co/Mm4WQrmwZr\">pic.twitter.com/Mm4WQrmwZr</a></p>\n",
      "</div>\n",
      "page: 1 -------------\n",
      "<div class=\"js-tweet-text-container\">\n",
      "<p class=\"TweetTextSize TweetTextSize--normal js-tweet-text tweet-text\" data-aria-label-part=\"0\" lang=\"en\">InSight sol 300 (2019-09-30) low -103.2ºC (-153.7ºF) high -25.6ºC (-14.1ºF)\n",
      "winds from the SSE at 5.2 m/s (11.6 mph) gusting to 22.0 m/s (49.1 mph)\n",
      "pressure at 7.30 hPa<a class=\"twitter-timeline-link u-hidden\" data-pre-embedded=\"true\" dir=\"ltr\" href=\"https://t.co/bIfhUmZheS\">pic.twitter.com/bIfhUmZheS</a></p>\n",
      "</div>\n",
      "page: 1 -------------\n",
      "<div class=\"js-tweet-text-container\">\n",
      "<p class=\"TweetTextSize TweetTextSize--normal js-tweet-text tweet-text\" data-aria-label-part=\"0\" lang=\"en\">InSight sol 299 (2019-09-29) low -101.3ºC (-150.3ºF) high -27.7ºC (-17.8ºF)\n",
      "winds from the SSE at 4.7 m/s (10.6 mph) gusting to 17.3 m/s (38.8 mph)\n",
      "pressure at 7.30 hPa</p>\n",
      "</div>\n",
      "page: 1 -------------\n",
      "<div class=\"js-tweet-text-container\">\n",
      "<p class=\"TweetTextSize TweetTextSize--normal js-tweet-text tweet-text\" data-aria-label-part=\"0\" lang=\"en\">Martian sounds alert!\n",
      "I’m equipped with a very sensitive “ear.” My seismometer has been listening for <a class=\"twitter-hashtag pretty-link js-nav\" data-query-source=\"hashtag_click\" dir=\"ltr\" href=\"/hashtag/marsquakes?src=hash\"><s>#</s><b>marsquakes</b></a> and has picked up other interesting signals as well. Grab your headphones and take a listen. <img alt=\"🎧\" aria-label=\"Emoji: Headphone\" class=\"Emoji Emoji--forText\" draggable=\"false\" src=\"https://abs.twimg.com/emoji/v2/72x72/1f3a7.png\" title=\"Headphone\"/>\n",
      "\n",
      "More sounds here: <a class=\"twitter-timeline-link\" data-expanded-url=\"http://go.nasa.gov/2nDjEb1\" dir=\"ltr\" href=\"https://t.co/Oa4wEJu3Am\" rel=\"nofollow noopener\" target=\"_blank\" title=\"http://go.nasa.gov/2nDjEb1\"><span class=\"tco-ellipsis\"></span><span class=\"invisible\">http://</span><span class=\"js-display-url\">go.nasa.gov/2nDjEb1</span><span class=\"invisible\"></span><span class=\"tco-ellipsis\"><span class=\"invisible\"> </span></span></a><a class=\"twitter-timeline-link u-hidden\" data-pre-embedded=\"true\" dir=\"ltr\" href=\"https://t.co/cp8lQkgdyv\">pic.twitter.com/cp8lQkgdyv</a></p>\n",
      "</div>\n",
      "page: 1 -------------\n",
      "<div class=\"js-tweet-text-container\">\n",
      "<p class=\"TweetTextSize TweetTextSize--normal js-tweet-text tweet-text\" data-aria-label-part=\"0\" lang=\"en\">Happy 61st Birthday <a class=\"twitter-atreply pretty-link js-nav\" data-mentioned-user-id=\"11348282\" dir=\"ltr\" href=\"/NASA\"><s>@</s><b>NASA</b></a><a class=\"twitter-timeline-link u-hidden\" data-pre-embedded=\"true\" dir=\"ltr\" href=\"https://t.co/f3eBgKEfTI\">pic.twitter.com/f3eBgKEfTI</a></p>\n",
      "</div>\n",
      "page: 1 -------------\n",
      "<div class=\"js-tweet-text-container\">\n",
      "<p class=\"TweetTextSize TweetTextSize--normal js-tweet-text tweet-text\" data-aria-label-part=\"0\" lang=\"en\">InSight sol 298 (2019-09-28) low -104.1ºC (-155.5ºF) high -26.8ºC (-16.3ºF)\n",
      "winds from the SW at 4.1 m/s (9.1 mph) gusting to 17.9 m/s (40.0 mph)\n",
      "pressure at 7.30 hPa<a class=\"twitter-timeline-link u-hidden\" data-pre-embedded=\"true\" dir=\"ltr\" href=\"https://t.co/vSIwstlCUg\">pic.twitter.com/vSIwstlCUg</a></p>\n",
      "</div>\n",
      "page: 1 -------------\n",
      "<div class=\"js-tweet-text-container\">\n",
      "<p class=\"TweetTextSize TweetTextSize--normal js-tweet-text tweet-text\" data-aria-label-part=\"0\" lang=\"en\">Time is running out to send your name to Mars aboard the 2020 rover, <a class=\"twitter-timeline-link\" data-expanded-url=\"https://go.nasa.gov/2Wlf4gT\" dir=\"ltr\" href=\"https://t.co/aJl17iUiSk\" rel=\"nofollow noopener\" target=\"_blank\" title=\"https://go.nasa.gov/2Wlf4gT\"><span class=\"tco-ellipsis\"></span><span class=\"invisible\">https://</span><span class=\"js-display-url\">go.nasa.gov/2Wlf4gT</span><span class=\"invisible\"></span><span class=\"tco-ellipsis\"><span class=\"invisible\"> </span></span></a> read more at <a class=\"twitter-hashtag pretty-link js-nav\" data-query-source=\"hashtag_click\" dir=\"ltr\" href=\"/hashtag/WRAL?src=hash\"><s>#</s><b>WRAL</b></a> <a class=\"twitter-timeline-link\" data-expanded-url=\"https://www.wral.com/send-your-name-to-mars-or-name-the-mars-rover/18665551/\" dir=\"ltr\" href=\"https://t.co/gftlP01doN\" rel=\"nofollow noopener\" target=\"_blank\" title=\"https://www.wral.com/send-your-name-to-mars-or-name-the-mars-rover/18665551/\"><span class=\"tco-ellipsis\"></span><span class=\"invisible\">https://www.</span><span class=\"js-display-url\">wral.com/send-your-name</span><span class=\"invisible\">-to-mars-or-name-the-mars-rover/18665551/</span><span class=\"tco-ellipsis\"><span class=\"invisible\"> </span>…</span></a><a class=\"twitter-timeline-link u-hidden\" data-pre-embedded=\"true\" dir=\"ltr\" href=\"https://t.co/8oOji4Eb8C\">pic.twitter.com/8oOji4Eb8C</a></p>\n",
      "</div>\n",
      "Scraping Complete\n"
     ]
    }
   ],
   "source": [
    "### Mars Weather\n",
    "executable_path = {'executable_path': 'C:\\workspace\\Resources\\chromedriver.exe'}\n",
    "browser = Browser('chrome', **executable_path, headless=False)\n",
    "url_weather = 'https://twitter.com/marswxreport?lang=en'\n",
    "browser.visit(url_weather)\n",
    "weathers=[]\n",
    "for x in range(1, 2):\n",
    "    html = browser.html\n",
    "    soup = bs(html, 'html.parser')\n",
    "    mars_weather = soup.find_all(class_='js-tweet-text-container')\n",
    "    for weather in mars_weather:\n",
    "        print('page:', x, '-------------')\n",
    "        print(weather)\n",
    "        weathers.append(weather)\n",
    "        #print(mars_weather.p.text)\n",
    "    try:\n",
    "        browser.click_link_by_partial_text('more')    \n",
    "    except:\n",
    "        print(\"Scraping Complete\")\n",
    "\n",
    "unwanted_link=weathers[0].find('p').find('a').get_text()\n",
    "mars_weather= weathers[0].find('p').text.replace(unwanted_link,'').replace('\\n','')\n"
   ]
  },
  {
   "cell_type": "code",
   "execution_count": 76,
   "metadata": {},
   "outputs": [
    {
     "name": "stdout",
     "output_type": "stream",
     "text": [
      "InSight sol 313 (2019-10-14) low -101.4ºC (-150.6ºF) high -27.2ºC (-16.9ºF)winds from the SSE at 5.5 m/s (12.4 mph) gusting to 22.5 m/s (50.3 mph)pressure at 7.20 hPa\n"
     ]
    }
   ],
   "source": [
    "print(mars_weather)"
   ]
  },
  {
   "cell_type": "code",
   "execution_count": 77,
   "metadata": {},
   "outputs": [
    {
     "data": {
      "text/html": [
       "<div>\n",
       "<style scoped>\n",
       "    .dataframe tbody tr th:only-of-type {\n",
       "        vertical-align: middle;\n",
       "    }\n",
       "\n",
       "    .dataframe tbody tr th {\n",
       "        vertical-align: top;\n",
       "    }\n",
       "\n",
       "    .dataframe thead th {\n",
       "        text-align: right;\n",
       "    }\n",
       "</style>\n",
       "<table border=\"1\" class=\"dataframe\">\n",
       "  <thead>\n",
       "    <tr style=\"text-align: right;\">\n",
       "      <th></th>\n",
       "      <th>Mars Profile</th>\n",
       "      <th>Figures</th>\n",
       "    </tr>\n",
       "  </thead>\n",
       "  <tbody>\n",
       "    <tr>\n",
       "      <td>0</td>\n",
       "      <td>Equatorial Diameter:</td>\n",
       "      <td>6,792 km</td>\n",
       "    </tr>\n",
       "    <tr>\n",
       "      <td>1</td>\n",
       "      <td>Polar Diameter:</td>\n",
       "      <td>6,752 km</td>\n",
       "    </tr>\n",
       "    <tr>\n",
       "      <td>2</td>\n",
       "      <td>Mass:</td>\n",
       "      <td>6.39 × 10^23 kg (0.11 Earths)</td>\n",
       "    </tr>\n",
       "    <tr>\n",
       "      <td>3</td>\n",
       "      <td>Moons:</td>\n",
       "      <td>2 (Phobos &amp; Deimos)</td>\n",
       "    </tr>\n",
       "    <tr>\n",
       "      <td>4</td>\n",
       "      <td>Orbit Distance:</td>\n",
       "      <td>227,943,824 km (1.38 AU)</td>\n",
       "    </tr>\n",
       "    <tr>\n",
       "      <td>5</td>\n",
       "      <td>Orbit Period:</td>\n",
       "      <td>687 days (1.9 years)</td>\n",
       "    </tr>\n",
       "    <tr>\n",
       "      <td>6</td>\n",
       "      <td>Surface Temperature:</td>\n",
       "      <td>-87 to -5 °C</td>\n",
       "    </tr>\n",
       "    <tr>\n",
       "      <td>7</td>\n",
       "      <td>First Record:</td>\n",
       "      <td>2nd millennium BC</td>\n",
       "    </tr>\n",
       "    <tr>\n",
       "      <td>8</td>\n",
       "      <td>Recorded By:</td>\n",
       "      <td>Egyptian astronomers</td>\n",
       "    </tr>\n",
       "  </tbody>\n",
       "</table>\n",
       "</div>"
      ],
      "text/plain": [
       "           Mars Profile                        Figures\n",
       "0  Equatorial Diameter:                       6,792 km\n",
       "1       Polar Diameter:                       6,752 km\n",
       "2                 Mass:  6.39 × 10^23 kg (0.11 Earths)\n",
       "3                Moons:            2 (Phobos & Deimos)\n",
       "4       Orbit Distance:       227,943,824 km (1.38 AU)\n",
       "5         Orbit Period:           687 days (1.9 years)\n",
       "6  Surface Temperature:                   -87 to -5 °C\n",
       "7         First Record:              2nd millennium BC\n",
       "8          Recorded By:           Egyptian astronomers"
      ]
     },
     "execution_count": 77,
     "metadata": {},
     "output_type": "execute_result"
    }
   ],
   "source": [
    "### Mars Facts\n",
    "url_facts='https://space-facts.com/mars/'\n",
    "tables = pd.read_html(url_facts)\n",
    "df=tables[1]\n",
    "df.columns=['Mars Profile','Figures']\n",
    "df"
   ]
  },
  {
   "cell_type": "code",
   "execution_count": 78,
   "metadata": {},
   "outputs": [],
   "source": [
    "html_table = df.to_html()\n",
    "df.to_html('table.html')"
   ]
  },
  {
   "cell_type": "code",
   "execution_count": 79,
   "metadata": {
    "scrolled": false
   },
   "outputs": [
    {
     "name": "stdout",
     "output_type": "stream",
     "text": [
      "page: 1 -------------\n",
      "Cerberus Hemisphere Enhanced\n",
      "https://astrogeology.usgs.gov/search/map/Mars/Viking/cerberus_enhanced\n",
      "page: 1 -------------\n",
      "Schiaparelli Hemisphere Enhanced\n",
      "https://astrogeology.usgs.gov/search/map/Mars/Viking/schiaparelli_enhanced\n",
      "page: 1 -------------\n",
      "Syrtis Major Hemisphere Enhanced\n",
      "https://astrogeology.usgs.gov/search/map/Mars/Viking/syrtis_major_enhanced\n",
      "page: 1 -------------\n",
      "Valles Marineris Hemisphere Enhanced\n",
      "https://astrogeology.usgs.gov/search/map/Mars/Viking/valles_marineris_enhanced\n",
      "Scraping Complete\n"
     ]
    }
   ],
   "source": [
    "### Mars Hemispheres\n",
    "executable_path = {'executable_path': 'C:\\workspace\\Resources\\chromedriver.exe'}\n",
    "browser = Browser('chrome', **executable_path, headless=False)\n",
    "url_hemis = 'https://astrogeology.usgs.gov/search/results?q=hemisphere+enhanced&k1=target&v1=Mars'\n",
    "browser.visit(url_hemis)\n",
    "\n",
    "title_hemis=[]\n",
    "img_urls=[]\n",
    "\n",
    "for x in range(1, 2):\n",
    "    html = browser.html\n",
    "    soup = bs(html, 'html.parser')\n",
    "    mars_hemis = soup.find_all(class_='description')\n",
    "    for hemis in mars_hemis:\n",
    "        print('page:', x, '-------------')\n",
    "        #print(hemis)\n",
    "        title_hemi=hemis.find('a').text\n",
    "        href=hemis.find('a')['href']\n",
    "        title_hemis.append(title_hemi)\n",
    "        beginning_url='https://astrogeology.usgs.gov'\n",
    "        img_url=beginning_url+href\n",
    "        img_urls.append(img_url)\n",
    "        print(title_hemi)\n",
    "        print(img_url)\n",
    "    try:\n",
    "        browser.click_link_by_partial_text('more')    \n",
    "    except:\n",
    "        print(\"Scraping Complete\")\n"
   ]
  },
  {
   "cell_type": "code",
   "execution_count": 80,
   "metadata": {},
   "outputs": [
    {
     "data": {
      "text/plain": [
       "{'title': ['Cerberus Hemisphere Enhanced',\n",
       "  'Schiaparelli Hemisphere Enhanced',\n",
       "  'Syrtis Major Hemisphere Enhanced',\n",
       "  'Valles Marineris Hemisphere Enhanced'],\n",
       " 'img_url': ['https://astrogeology.usgs.gov/search/map/Mars/Viking/cerberus_enhanced',\n",
       "  'https://astrogeology.usgs.gov/search/map/Mars/Viking/schiaparelli_enhanced',\n",
       "  'https://astrogeology.usgs.gov/search/map/Mars/Viking/syrtis_major_enhanced',\n",
       "  'https://astrogeology.usgs.gov/search/map/Mars/Viking/valles_marineris_enhanced']}"
      ]
     },
     "execution_count": 80,
     "metadata": {},
     "output_type": "execute_result"
    }
   ],
   "source": [
    "hemisphere_image_urls  = {\"title\": title_hemis, \"img_url\": img_urls}\n",
    "hemisphere_image_urls "
   ]
  },
  {
   "cell_type": "code",
   "execution_count": null,
   "metadata": {},
   "outputs": [],
   "source": []
  }
 ],
 "metadata": {
  "kernelspec": {
   "display_name": "Python 3",
   "language": "python",
   "name": "python3"
  },
  "language_info": {
   "codemirror_mode": {
    "name": "ipython",
    "version": 3
   },
   "file_extension": ".py",
   "mimetype": "text/x-python",
   "name": "python",
   "nbconvert_exporter": "python",
   "pygments_lexer": "ipython3",
   "version": "3.7.4"
  }
 },
 "nbformat": 4,
 "nbformat_minor": 2
}
